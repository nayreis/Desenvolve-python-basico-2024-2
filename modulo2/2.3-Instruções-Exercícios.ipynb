{
 "cells": [
  {
   "cell_type": "markdown",
   "metadata": {
    "id": "1pCTdOHonv5f"
   },
   "source": [
    "# Módulo 2\n",
    "\n",
    "## 2.3 Instruções e Expressões\n",
    "\n",
    "### Q1\n",
    "\n",
    "Faça um programa que armazene o valor de 20 reais de salário por hora de um trabalhador, e o número de 40 horas trabalhadas na semana. Com essas informações, calcule e imprima:\n",
    "- Salário semanal bruto\n",
    "- Valor descontado por semana INSS (10% do bruto)\n",
    "- Valor descontado por semana pelo sindicato (5% do bruto)\n",
    "- Salário semanal líquido (Bruto - Descontos)"
   ]
  },
  {
   "cell_type": "code",
   "execution_count": 1,
   "metadata": {
    "id": "hVbX0I97nj6M"
   },
   "outputs": [
    {
     "name": "stdout",
     "output_type": "stream",
     "text": [
      " O Salario Bruto é: 800\n",
      " O desconto do INSS é: 80.0\n",
      " O desconto Sindicato é: 40.0\n",
      " O salário liquido é: 680.0\n"
     ]
    }
   ],
   "source": [
    "## Escreva e execute seu código aqui\n",
    "salario_hora = 20\n",
    "horas_por_semana = 40\n",
    "\n",
    "salario_bruto = salario_hora*horas_por_semana\n",
    "desconto_inss = 0.1* salario_bruto\n",
    "desconto_sind = 0.05* salario_bruto\n",
    "salario_liq = salario_bruto - desconto_inss- desconto_sind\n",
    "\n",
    "print ( \" O Salario Bruto é:\", salario_bruto)\n",
    "print ( \" O desconto do INSS é:\", desconto_inss)\n",
    "print ( \" O desconto Sindicato é:\", desconto_sind)\n",
    "print ( \" O salário liquido é:\", salario_liq)\n"
   ]
  },
  {
   "cell_type": "markdown",
   "metadata": {
    "id": "pIxKX9J2oGZ1"
   },
   "source": [
    "### Q2\n",
    "\n",
    "Altere o programa anterior para a partir dos valores de horas trabalhadas por semana e salário por hora, calcular **em somente duas instruções**:\n",
    "- Salário semanal bruto\n",
    "- Salário semanal líquido com todos os descontos. Para a segunda instrução, realize todos os cálculos aritméticos em uma expressão composta.\n"
   ]
  },
  {
   "cell_type": "code",
   "execution_count": 2,
   "metadata": {
    "id": "pAHw9Xf9oGoi"
   },
   "outputs": [
    {
     "name": "stdout",
     "output_type": "stream",
     "text": [
      " O Salario Bruto é: 800\n",
      " O salário liquido é: 680.0\n"
     ]
    }
   ],
   "source": [
    "salario_hora = 20\n",
    "horas_por_semana = 40\n",
    "salario_bruto = salario_hora*horas_por_semana\n",
    "salario_liq = salario_bruto - 0.1*salario_bruto-0.05*salario_bruto\n",
    "print ( \" O Salario Bruto é:\", salario_bruto)\n",
    "print ( \" O salário liquido é:\", salario_liq)\n",
    "\n"
   ]
  },
  {
   "cell_type": "markdown",
   "metadata": {
    "id": "m8tlHRuWpBOB"
   },
   "source": [
    "### Q3\n",
    "\n",
    "Você está desenvolvendo um software de conversão de moeda e precisa calcular o valor equivalente em yuan chinês a partir de uma quantia em real. A taxa de câmbio é de 0.69 BRL (real) para 1 CNY (yuan). Escreva um programa que define em uma variável uma quantia em reais (BRL) e calcula o valor equivalente em yuan (CNY). Imprima o resultado."
   ]
  },
  {
   "cell_type": "code",
   "execution_count": 4,
   "metadata": {
    "id": "2bPw7uF6oeL9"
   },
   "outputs": [
    {
     "name": "stdout",
     "output_type": "stream",
     "text": [
      "O valor real é: 100\n",
      "O valor convertido em yuan é: 144.92753623188406\n"
     ]
    }
   ],
   "source": [
    "valor_real=100\n",
    "valor_yuan =valor_real/0.69\n",
    "print( \"O valor real é:\", valor_real)\n",
    "print ( \"O valor convertido em yuan é:\",valor_yuan)\n"
   ]
  },
  {
   "cell_type": "markdown",
   "metadata": {
    "id": "-Na3ltDCp74A"
   },
   "source": [
    "### Q4\n",
    "\n",
    "Você é um treinador de corrida e deseja calcular a velocidade média que um atleta precisa manter para completar a Maratona Internacional de São Silvestre, que tem uma distância total de 42.195 km. A fórmula para calcular a velocidade média ($v\\_media$) é dada por $v\\_media = \\frac{distancia}{tempo}$ . Escreva um programa em Python para calcular a velocidade média necessária para completar a maratona em 3 horas.\n",
    "\n",
    "**Calcule e imprima o resultado em metros/segundo**, ou seja, converta a distância de quilômetros para metros ($metro = \\frac{km}{1000}$) e a velocidade de horas para segundos $(segundo = \\frac{hora}{3600})$."
   ]
  },
  {
   "cell_type": "code",
   "execution_count": 6,
   "metadata": {
    "id": "Bn6l8kcSrE4L"
   },
   "outputs": [
    {
     "name": "stdout",
     "output_type": "stream",
     "text": [
      "A velocidade média é: 50.634 m/s\n"
     ]
    }
   ],
   "source": [
    "distancia_total=42.195\n",
    "tempo_total=3\n",
    "metro=(distancia_total/1000)\n",
    "segundo= ( tempo_total/3600)\n",
    "v_media=metro/segundo\n",
    "print(\"A velocidade média é:\",v_media,\"m/s\")"
   ]
  },
  {
   "cell_type": "code",
   "execution_count": null,
   "metadata": {},
   "outputs": [],
   "source": []
  }
 ],
 "metadata": {
  "colab": {
   "provenance": []
  },
  "kernelspec": {
   "display_name": "Python 3 (ipykernel)",
   "language": "python",
   "name": "python3"
  },
  "language_info": {
   "codemirror_mode": {
    "name": "ipython",
    "version": 3
   },
   "file_extension": ".py",
   "mimetype": "text/x-python",
   "name": "python",
   "nbconvert_exporter": "python",
   "pygments_lexer": "ipython3",
   "version": "3.12.2"
  }
 },
 "nbformat": 4,
 "nbformat_minor": 4
}
